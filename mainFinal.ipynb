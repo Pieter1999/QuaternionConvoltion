{
 "cells": [
  {
   "cell_type": "markdown",
   "metadata": {},
   "source": [
    "# Quaternion convolutional layers reproduction"
   ]
  },
  {
   "attachments": {},
   "cell_type": "markdown",
   "metadata": {},
   "source": [
    "Firstly I want to check if it possible to recreate the paper. This process will consist of the following steps\n",
    "\n",
    "- Dataloader\n",
    "- DataFormatter\n",
    "- QCNN import \n",
    "- QNN import\n",
    "- Recreate archtitecture \n",
    "- Train"
   ]
  },
  {
   "attachments": {},
   "cell_type": "markdown",
   "metadata": {},
   "source": [
    "# Questions for the following session\n",
    "\n",
    "- Where does the conversion to quaternions happen\n",
    "- When we input the output feautures map into the Qlinearlayer we lose all our information right\n",
    "- Why do de images needed te be padded with a extra dimension\n",
    "\n",
    "# To do following session\n",
    "\n",
    "- Train the network"
   ]
  },
  {
   "cell_type": "markdown",
   "metadata": {},
   "source": []
  },
  {
   "cell_type": "markdown",
   "metadata": {},
   "source": []
  },
  {
   "attachments": {},
   "cell_type": "markdown",
   "metadata": {},
   "source": [
    "## Modules\n"
   ]
  },
  {
   "cell_type": "code",
   "execution_count": 131,
   "metadata": {},
   "outputs": [],
   "source": [
    "import numpy as np\n",
    "import torch as th\n",
    "from torchvision import transforms\n",
    "import torchvision.datasets as datasets\n",
    "import matplotlib.pyplot as plt\n",
    "from PIL import Image\n",
    "from torch.utils.data import DataLoader\n",
    "import core_qnn as qcnn\n",
    "import torch\n",
    "import torch.nn as nn\n",
    "from   torch.nn import Parameter\n",
    "from   torch.nn import functional as F\n",
    "import torch.optim\n",
    "from   torch.autograd import Variable\n",
    "from   torch import autograd\n",
    "import os\n",
    "import pickle\n",
    "import numpy as np\n",
    "# Tranform data to PyTorch tensore\n",
    "from torchvision.utils import make_grid\n",
    "from torchvision.transforms import ToTensor\n",
    "import torchvision"
   ]
  },
  {
   "attachments": {},
   "cell_type": "markdown",
   "metadata": {},
   "source": [
    "## Dataloader"
   ]
  },
  {
   "cell_type": "code",
   "execution_count": 143,
   "metadata": {},
   "outputs": [
    {
     "name": "stdout",
     "output_type": "stream",
     "text": [
      "Files already downloaded and verified\n"
     ]
    }
   ],
   "source": [
    "grayscale = torchvision.transforms.Grayscale(num_output_channels=1)\n",
    "\n",
    "def convert_data_for_quaternion(batch):\n",
    "    \"\"\"\n",
    "    converts batches of RGB images in 4 channels for QNNs\n",
    "    \"\"\"\n",
    "    assert all(batch[i][0].size(0) == 3 for i in range(len(batch)))\n",
    "    inputs, labels = [], []\n",
    "    for i in range(len(batch)):\n",
    "        inputs.append(torch.cat([batch[i][0], torch.zeros(grayscale(batch[i][0]).size())], 0))\n",
    "        labels.append(batch[i][1])\n",
    "    \n",
    "    return torch.stack(inputs), torch.LongTensor(labels)\n",
    "\n",
    "transform_train = transforms.Compose(\n",
    "    [\n",
    "    transforms.RandomAffine(degrees=0, translate=(0.1, 0.1)),\n",
    "     transforms.RandomHorizontalFlip(),\n",
    "     transforms.ToTensor(),\n",
    "     transforms.Normalize((.5, .5, .5), (.5, .5, .5))\n",
    "     ])\n",
    "\n",
    "transform_test = transforms.Compose(\n",
    "    [transforms.ToTensor(),\n",
    "     transforms.Normalize((.5, .5, .5), (.5, .5, .5))\n",
    "    ]\n",
    "     )\n",
    "\n",
    "data = datasets.CIFAR10(root='data', train=True, download=True, transform=transform_train)"
   ]
  },
  {
   "cell_type": "code",
   "execution_count": 144,
   "metadata": {},
   "outputs": [],
   "source": [
    "loader = torch.utils.data.DataLoader(data, batch_size=32, shuffle=True,collate_fn=convert_data_for_quaternion)"
   ]
  },
  {
   "cell_type": "code",
   "execution_count": 145,
   "metadata": {},
   "outputs": [
    {
     "name": "stderr",
     "output_type": "stream",
     "text": [
      "Clipping input data to the valid range for imshow with RGB data ([0..1] for floats or [0..255] for integers).\n"
     ]
    },
    {
     "name": "stdout",
     "output_type": "stream",
     "text": [
      "This is the size of image data torch.Size([4, 32, 32])\n",
      "This is the size of labels data torch.Size([32])\n"
     ]
    },
    {
     "data": {
      "text/plain": [
       "<matplotlib.image.AxesImage at 0x24a92e01cf0>"
      ]
     },
     "execution_count": 145,
     "metadata": {},
     "output_type": "execute_result"
    },
    {
     "data": {
      "image/png": "[encoded data removed]",
      "text/plain": [
       "<Figure size 640x480 with 1 Axes>"
      ]
     },
     "metadata": {},
     "output_type": "display_data"
    }
   ],
   "source": [
    "iter_func = iter(loader)\n",
    "\n",
    "image_data, label_data = next(iter_func)\n",
    "\n",
    "print(\"This is the size of image data\",image_data[0].shape)\n",
    "\n",
    "print(\"This is the size of labels data\",label_data.shape)\n",
    "\n",
    "plt.imshow(image_data[0][:3,:,:].permute((2,1,0)), cmap='Greys_r')"
   ]
  },
  {
   "attachments": {},
   "cell_type": "markdown",
   "metadata": {},
   "source": [
    "## Creating the model"
   ]
  },
  {
   "cell_type": "code",
   "execution_count": 146,
   "metadata": {},
   "outputs": [
    {
     "data": {
      "text/plain": [
       "1563"
      ]
     },
     "execution_count": 146,
     "metadata": {},
     "output_type": "execute_result"
    }
   ],
   "source": [
    "len(loader)"
   ]
  },
  {
   "cell_type": "code",
   "execution_count": 147,
   "metadata": {},
   "outputs": [],
   "source": [
    "from   core_qnn.quaternion_layers import QuaternionLinear, QuaternionTransposeConv, QuaternionConv\n",
    "\n",
    "class NormalModule(nn.Module):\n",
    "    \n",
    "    def __init__(self):\n",
    "        super(NormalModule, self).__init__()\n",
    "        \n",
    "        self.layer1 = nn.Linear(3072, 2048)\n",
    "        self.layer2 = nn.Linear(2048, 516)\n",
    "        self.layer3 = nn.Linear(516, 10)\n",
    "\n",
    "    def forward(self, x):\n",
    "        x = th.flatten(x)\n",
    "        x = self.layer1.forward(x)\n",
    "        x = F.relu(x)\n",
    "        x = self.layer2.forward(x)\n",
    "        x = F.relu(x)\n",
    "        x = self.layer3.forward(x)\n",
    "        x = F.softmax(x)\n",
    "\n",
    "        return x\n",
    "    \n",
    "    def name(self):\n",
    "        return \"SimpleModule\"\n",
    "    \n",
    "\n",
    "\n",
    "\n",
    "class SimpleModule(nn.Module):\n",
    "    \n",
    "    def __init__(self):\n",
    "        super(SimpleModule, self).__init__()\n",
    "        \n",
    "        self.layer1 = QuaternionConv(in_channels=4, out_channels=4, kernel_size = 3, stride = 1, padding = 1)\n",
    "        self.layer2 = nn.Linear(4096, 516)\n",
    "        self.layer3 = nn.Linear(516, 10)\n",
    "\n",
    "    def forward(self, x):\n",
    "        x = self.layer1.forward(x)\n",
    "        x = F.relu(x)\n",
    "        x = th.flatten(x)\n",
    "        x = self.layer2.forward(x)\n",
    "        x = F.relu(x)\n",
    "        x = self.layer3.forward(x)\n",
    "        x = F.softmax(x)\n",
    "\n",
    "        return x\n",
    "    \n",
    "    def name(self):\n",
    "        return \"SimpleModule\"\n",
    "    \n",
    "class TheModule(nn.Module):\n",
    "    \n",
    "    def __init__(self):\n",
    "        super(TheModule, self).__init__()\n",
    "        \n",
    "        self.layer1 = QuaternionConv(in_channels=4, out_channels=32, kernel_size = 3, stride = 1, padding = 1)\n",
    "        self.layer2 = QuaternionConv(in_channels=32, out_channels=32, kernel_size = 3, stride = 1, padding = 1)\n",
    "        self.layer3 = nn.MaxPool2d(kernel_size=2, stride = 2)\n",
    "        self.layer4 = nn.Dropout(0.25)\n",
    "\n",
    "        self.layer5 = QuaternionConv(in_channels=32, out_channels=64, kernel_size = 3, stride = 1, padding = 1)\n",
    "        self.layer6 = QuaternionConv(in_channels=64, out_channels=64, kernel_size = 3, stride = 1, padding = 1)\n",
    "\n",
    "        # self.layer7 = QuaternionLinear(4096, 512)\n",
    "        self.layer7 = nn.Linear(4096, 512)\n",
    "        \n",
    "        # self.layer8 = QuaternionLinear(512, 10)\n",
    "        self.layer8 = nn.Linear(512, 10)\n",
    "\n",
    "        self.layer9 = nn.Dropout(0.5)\n",
    "\n",
    "    def forward(self, x):\n",
    "        x = self.layer1.forward(x)\n",
    "        x = F.relu(x)\n",
    "        x = self.layer2.forward(x)\n",
    "        x = F.relu(x)\n",
    "        x = self.layer3(x)\n",
    "        # x = self.layer4(x)\n",
    "        \n",
    "        x = self.layer5.forward(x)\n",
    "        x = F.relu(x)\n",
    "        x = self.layer6.forward(x)\n",
    "        x = F.relu(x)\n",
    "        x = self.layer3(x)\n",
    "        # x = self.layer4(x) \n",
    "        \n",
    "        flat = nn.Flatten()\n",
    "        x = flat(x)\n",
    "        \n",
    "        x = self.layer7.forward(x)\n",
    "        x = F.relu(x)\n",
    "        x = self.layer8.forward(x)\n",
    "        # x = self.layer9(x)\n",
    "        x = th.sigmoid(x)\n",
    "\n",
    "        return x\n",
    "    \n",
    "    def name(self):\n",
    "        return \"SimpleModule\"\n",
    "    \n",
    "class CNNModule(nn.Module):\n",
    "    \n",
    "    def __init__(self):\n",
    "        super(CNNModule, self).__init__()\n",
    "        \n",
    "        self.layer1 = nn.Conv2d(in_channels=3, out_channels=8, kernel_size = 3, stride = 1, padding = 1)\n",
    "        self.layer2 = nn.Conv2d(in_channels=8, out_channels=8, kernel_size = 3, stride = 1, padding = 1)\n",
    "        self.layer3 = nn.MaxPool2d(kernel_size=2, stride = 2)\n",
    "        self.layer4 = nn.Dropout(0.25)\n",
    "\n",
    "        self.layer5 = nn.Conv2d(in_channels=8, out_channels=16, kernel_size = 3, stride = 1, padding = 1)\n",
    "        self.layer6 = nn.Conv2d(in_channels=16, out_channels=16, kernel_size = 3, stride = 1, padding = 1)\n",
    "\n",
    "        # self.layer7 = QuaternionLinear(4096, 512)\n",
    "        self.layer7 = nn.Linear(1024, 512)\n",
    "        \n",
    "        # self.layer8 = QuaternionLinear(512, 10)\n",
    "        self.layer8 = nn.Linear(512, 10)\n",
    "\n",
    "        self.layer9 = nn.Dropout(0.5)\n",
    "\n",
    "    def forward(self, x):\n",
    "        x = self.layer1.forward(x)\n",
    "        x = F.relu(x)\n",
    "        x = self.layer2.forward(x)\n",
    "        x = F.relu(x)\n",
    "        x = self.layer3(x)\n",
    "        # x = self.layer4(x)\n",
    "        \n",
    "        x = self.layer5.forward(x)\n",
    "        x = F.relu(x)\n",
    "        x = self.layer6.forward(x)\n",
    "        x = F.relu(x)\n",
    "        x = self.layer3(x)\n",
    "        # x = self.layer4(x) \n",
    "        flat = nn.Flatten()\n",
    "        x = flat(x)\n",
    "        \n",
    "        x = self.layer7.forward(x)\n",
    "        x = F.relu(x)\n",
    "        x = self.layer8.forward(x)\n",
    "        # x = self.layer9(x)\n",
    "        x = th.sigmoid(x)\n",
    "\n",
    "        return x\n",
    "    \n",
    "    def name(self):\n",
    "        return \"SimpleModule\"\n",
    "\n"
   ]
  },
  {
   "attachments": {},
   "cell_type": "markdown",
   "metadata": {},
   "source": [
    "## Choose your network"
   ]
  },
  {
   "cell_type": "code",
   "execution_count": 148,
   "metadata": {},
   "outputs": [],
   "source": [
    "# Choose your model\n",
    "if False: \n",
    "    model = SimpleModule().cuda(); \n",
    "    loader = torch.utils.data.DataLoader(data, batch_size=32, shuffle=True,collate_fn=convert_data_for_quaternion)\n",
    "\n",
    "\n",
    "if False: \n",
    "    model = TheModule().cuda(); \n",
    "    loader = torch.utils.data.DataLoader(data, batch_size=32, shuffle=True,collate_fn=convert_data_for_quaternion)\n",
    "\n",
    "if True: \n",
    "    model = CNNModule().cuda(); \n",
    "    loader = torch.utils.data.DataLoader(data, batch_size=32, shuffle=True)\n",
    "\n",
    "if False:\n",
    "    model = NormalModule().cuda(); \n",
    "    loader = torch.utils.data.DataLoader(data, batch_size=32, shuffle=True,collate_fn=convert_data_for_quaternion)\n",
    "\n",
    "\n",
    "criterion = nn.CrossEntropyLoss()\n",
    "opt = torch.optim.RMSprop(model.parameters(), lr = 0.0001,weight_decay=1e-6)"
   ]
  },
  {
   "attachments": {},
   "cell_type": "markdown",
   "metadata": {},
   "source": [
    "## Training the network \n"
   ]
  },
  {
   "cell_type": "code",
   "execution_count": 149,
   "metadata": {},
   "outputs": [
    {
     "name": "stdout",
     "output_type": "stream",
     "text": [
      "Epoch [1/80], Loss: 2.0195\n",
      "Running loss 2.0867677730241803\n",
      "Epoch [2/80], Loss: 2.0035\n",
      "Running loss 2.000150076487243\n",
      "Epoch [3/80], Loss: 2.0528\n",
      "Running loss 1.9749164302152316\n",
      "Epoch [4/80], Loss: 1.8401\n",
      "Running loss 1.9579135607391767\n",
      "Epoch [5/80], Loss: 2.0482\n",
      "Running loss 1.944014552611231\n",
      "Epoch [6/80], Loss: 1.9591\n",
      "Running loss 1.9293911155034393\n",
      "Epoch [7/80], Loss: 1.9111\n",
      "Running loss 1.9168982004707469\n",
      "Epoch [8/80], Loss: 2.1567\n",
      "Running loss 1.9067949566105886\n",
      "Epoch [9/80], Loss: 1.9547\n",
      "Running loss 1.8969222936428898\n",
      "Epoch [10/80], Loss: 1.8596\n",
      "Running loss 1.8872254342508104\n",
      "Epoch [11/80], Loss: 1.8216\n",
      "Running loss 1.879634945269052\n",
      "Epoch [12/80], Loss: 1.8685\n",
      "Running loss 1.8724615938451454\n",
      "Epoch [13/80], Loss: 1.7968\n",
      "Running loss 1.8649035783738412\n",
      "Epoch [14/80], Loss: 1.8964\n",
      "Running loss 1.859607037335577\n",
      "Epoch [15/80], Loss: 1.8552\n",
      "Running loss 1.8536971672482774\n",
      "Epoch [16/80], Loss: 1.9589\n",
      "Running loss 1.8479932006627264\n",
      "Epoch [17/80], Loss: 1.8040\n",
      "Running loss 1.843652247924951\n",
      "Epoch [18/80], Loss: 1.9266\n",
      "Running loss 1.839598597201947\n",
      "Epoch [19/80], Loss: 1.9188\n",
      "Running loss 1.8348961250948281\n",
      "Epoch [20/80], Loss: 1.9403\n",
      "Running loss 1.8303014319139799\n",
      "Epoch [21/80], Loss: 1.9906\n",
      "Running loss 1.8254353907042715\n",
      "Epoch [22/80], Loss: 1.7773\n",
      "Running loss 1.82183858902883\n",
      "Epoch [23/80], Loss: 1.9862\n",
      "Running loss 1.8193777024707807\n",
      "Epoch [24/80], Loss: 1.8805\n",
      "Running loss 1.814639599675638\n",
      "Epoch [25/80], Loss: 1.8209\n",
      "Running loss 1.8117653528086588\n",
      "Epoch [26/80], Loss: 1.8973\n",
      "Running loss 1.8099737671500051\n",
      "Epoch [27/80], Loss: 1.9072\n",
      "Running loss 1.805900154400543\n",
      "Epoch [28/80], Loss: 1.7474\n",
      "Running loss 1.8028608366837504\n",
      "Epoch [29/80], Loss: 1.9516\n",
      "Running loss 1.8009254856896721\n",
      "Epoch [30/80], Loss: 1.6996\n",
      "Running loss 1.7972147027727738\n",
      "Epoch [31/80], Loss: 1.7441\n",
      "Running loss 1.793403330172626\n",
      "Epoch [32/80], Loss: 1.8100\n",
      "Running loss 1.7923177306803082\n",
      "Epoch [33/80], Loss: 1.6412\n",
      "Running loss 1.7914347367186005\n",
      "Epoch [34/80], Loss: 1.7738\n",
      "Running loss 1.7880362177688345\n",
      "Epoch [35/80], Loss: 1.8602\n",
      "Running loss 1.7848650226971314\n",
      "Epoch [36/80], Loss: 1.7645\n",
      "Running loss 1.7836611733097947\n",
      "Epoch [37/80], Loss: 1.7757\n",
      "Running loss 1.7816877114948217\n",
      "Epoch [38/80], Loss: 1.8732\n",
      "Running loss 1.7796606566764115\n",
      "Epoch [39/80], Loss: 1.9099\n",
      "Running loss 1.778736113205371\n",
      "Epoch [40/80], Loss: 1.8178\n",
      "Running loss 1.7756738007564385\n",
      "Epoch [41/80], Loss: 1.7065\n",
      "Running loss 1.7729892028270435\n",
      "Epoch [42/80], Loss: 1.7945\n",
      "Running loss 1.7722992109169353\n",
      "Epoch [43/80], Loss: 1.7810\n",
      "Running loss 1.771484057642448\n",
      "Epoch [44/80], Loss: 1.7133\n",
      "Running loss 1.7678823982837943\n",
      "Epoch [45/80], Loss: 1.6927\n",
      "Running loss 1.7674318432274037\n",
      "Epoch [46/80], Loss: 1.9213\n",
      "Running loss 1.7654137499272937\n",
      "Epoch [47/80], Loss: 1.7436\n",
      "Running loss 1.7631371123471935\n",
      "Epoch [48/80], Loss: 1.7495\n",
      "Running loss 1.761550658342553\n",
      "Epoch [49/80], Loss: 1.7005\n",
      "Running loss 1.7598678570715036\n",
      "Epoch [50/80], Loss: 1.7193\n",
      "Running loss 1.7605055539331906\n",
      "Epoch [51/80], Loss: 1.7457\n",
      "Running loss 1.7569965940977013\n",
      "Epoch [52/80], Loss: 1.6949\n",
      "Running loss 1.7556084244203964\n",
      "Epoch [53/80], Loss: 1.7899\n",
      "Running loss 1.755604413939224\n",
      "Epoch [54/80], Loss: 1.9010\n",
      "Running loss 1.7540534995567776\n",
      "Epoch [55/80], Loss: 1.6785\n",
      "Running loss 1.7526770426688558\n",
      "Epoch [56/80], Loss: 1.8425\n",
      "Running loss 1.7526147506668717\n",
      "Epoch [57/80], Loss: 1.6758\n",
      "Running loss 1.7502169913385286\n",
      "Epoch [58/80], Loss: 1.7683\n",
      "Running loss 1.7494851732894692\n",
      "Epoch [59/80], Loss: 1.7817\n",
      "Running loss 1.749029285543177\n",
      "Epoch [60/80], Loss: 1.9602\n",
      "Running loss 1.7468305495177334\n",
      "Epoch [61/80], Loss: 1.8702\n",
      "Running loss 1.7466747374086142\n",
      "Epoch [62/80], Loss: 1.7536\n",
      "Running loss 1.7450318733851116\n",
      "Epoch [63/80], Loss: 1.8884\n",
      "Running loss 1.7444578345891228\n",
      "Epoch [64/80], Loss: 1.6045\n",
      "Running loss 1.7445612183306665\n",
      "Epoch [65/80], Loss: 1.7873\n",
      "Running loss 1.7425477405579823\n",
      "Epoch [66/80], Loss: 1.6444\n",
      "Running loss 1.7427651425317092\n",
      "Epoch [67/80], Loss: 1.8656\n",
      "Running loss 1.741781765882281\n"
     ]
    }
   ],
   "source": [
    "num_epochs = 80\n",
    "losses = []\n",
    "running_loss = 0\n",
    "for epoch in range(num_epochs):\n",
    "\n",
    "    running_loss = 0\n",
    "    for inputs, labels in loader:\n",
    "        # get the inputs; data is a list of [inputs, labels]\n",
    "        inputs, labels = inputs.to('cuda'), labels.to('cuda')\n",
    "\n",
    "        # zero the parameter gradients\n",
    "        opt.zero_grad()\n",
    "\n",
    "        # forward + backward + optimize\n",
    "        outputs = model(inputs)\n",
    "        loss = criterion(outputs, labels)\n",
    "        loss.backward()\n",
    "        opt.step()\n",
    "        running_loss += loss.cpu().item()\n",
    "        # print statistics\n",
    "            # Print progress\n",
    "    if (epoch+1) % 1 == 0:\n",
    "        losses.append(running_loss/1563)\n",
    "        print ('Epoch [{}/{}], Loss: {:.4f}'\n",
    "            .format(epoch+1, num_epochs, loss.cpu().item()))\n",
    "        print(f\"Running loss {running_loss/1563}\")\n",
    "\n",
    "print('Finished Training')"
   ]
  },
  {
   "attachments": {},
   "cell_type": "markdown",
   "metadata": {},
   "source": [
    "## Plotting and saving the data\n",
    "\n"
   ]
  },
  {
   "cell_type": "code",
   "execution_count": 139,
   "metadata": {},
   "outputs": [
    {
     "data": {
      "image/png": "[encoded data removed]",
      "text/plain": [
       "<Figure size 640x480 with 1 Axes>"
      ]
     },
     "metadata": {},
     "output_type": "display_data"
    }
   ],
   "source": [
    "import datetime\n",
    "import pandas as pd\n",
    "x = datetime.datetime.now()\n",
    "\n",
    "appendix = \"CNN_with_normalization\"\n",
    "string = str(x.day) + \"_\" + str(x.hour) + \"_\" + str(x.minute) + \"_\" + str(x.second) + \"_\" + str(appendix)\n",
    "\n",
    "# Plotter\n",
    "plt.plot(range(len(losses)), losses)\n",
    "plt.savefig( f\"./modelsParameters/{string}.png\")\n",
    "plt.show()\n",
    "\n",
    "# Torch\n",
    "torch.save(model.state_dict(), f\"./modelsParameters/{string}\")\n",
    "\n",
    "# Pandas\n",
    "df = pd.DataFrame(losses, columns=[\"Losses\"])\n",
    "df.to_csv( f\"./modelsParameters/{string}.csv\", index=False)"
   ]
  },
  {
   "cell_type": "code",
   "execution_count": 140,
   "metadata": {},
   "outputs": [
    {
     "name": "stdout",
     "output_type": "stream",
     "text": [
      "Files already downloaded and verified\n"
     ]
    }
   ],
   "source": [
    "data_test = datasets.CIFAR10(root='data', train=False, download=True, transform=transform_test)\n",
    "testloader = torch.utils.data.DataLoader(data_test, batch_size=10000, shuffle=False, \\\n",
    "    collate_fn=convert_data_for_quaternion)\n",
    "\n",
    "# Model is normal cnn\n",
    "# data_test = datasets.CIFAR10(root='data', train=False, download=True, transform=transform_test)\n",
    "# testloader = torch.utils.data.DataLoader(data_test, batch_size=10000, shuffle=False)"
   ]
  },
  {
   "attachments": {},
   "cell_type": "markdown",
   "metadata": {},
   "source": [
    "## Retrieve"
   ]
  },
  {
   "cell_type": "code",
   "execution_count": 35,
   "metadata": {},
   "outputs": [
    {
     "data": {
      "text/plain": [
       "TheModule(\n",
       "  (layer1): QuaternionConv(in_channels=1, out_channels=8, bias=True, kernel_size=(3, 3), stride=1, padding=1, init_criterion=glorot, weight_init=quaternion, seed=636, rotation=False, q_format=True, operation=convolution2d)\n",
       "  (layer2): QuaternionConv(in_channels=8, out_channels=8, bias=True, kernel_size=(3, 3), stride=1, padding=1, init_criterion=glorot, weight_init=quaternion, seed=282, rotation=False, q_format=True, operation=convolution2d)\n",
       "  (layer3): MaxPool2d(kernel_size=2, stride=2, padding=0, dilation=1, ceil_mode=False)\n",
       "  (layer4): Dropout(p=0.25, inplace=False)\n",
       "  (layer5): QuaternionConv(in_channels=8, out_channels=16, bias=True, kernel_size=(3, 3), stride=1, padding=1, init_criterion=glorot, weight_init=quaternion, seed=1001, rotation=False, q_format=True, operation=convolution2d)\n",
       "  (layer6): QuaternionConv(in_channels=16, out_channels=16, bias=True, kernel_size=(3, 3), stride=1, padding=1, init_criterion=glorot, weight_init=quaternion, seed=802, rotation=False, q_format=True, operation=convolution2d)\n",
       "  (layer7): QuaternionLinear(in_features=1024, out_features=128, bias=True, init_criterion=he, weight_init=quaternion, seed=841)\n",
       "  (layer8): Linear(in_features=512, out_features=10, bias=True)\n",
       "  (layer9): Dropout(p=0.5, inplace=False)\n",
       ")"
      ]
     },
     "execution_count": 35,
     "metadata": {},
     "output_type": "execute_result"
    }
   ],
   "source": [
    "model = TheModule().cuda()\n",
    "model.load_state_dict(torch.load(\"./hoi\"))\n",
    "model.eval()"
   ]
  },
  {
   "cell_type": "code",
   "execution_count": 141,
   "metadata": {},
   "outputs": [],
   "source": [
    "torch.cuda.empty_cache()"
   ]
  },
  {
   "cell_type": "code",
   "execution_count": 142,
   "metadata": {},
   "outputs": [
    {
     "name": "stdout",
     "output_type": "stream",
     "text": [
      "Accuracy of the network on the 10000 test images: 74.0000%\n"
     ]
    }
   ],
   "source": [
    "correct = 0\n",
    "total = 0\n",
    "# since we're not training, we don't need to calculate the gradients for our outputs\n",
    "with torch.no_grad():\n",
    "    for inputs, labels in testloader:\n",
    "        images, labels = inputs.to('cuda'), labels.to('cuda')\n",
    "        # calculate outputs by running images through the network\n",
    "        outputs = model(images)\n",
    "        # the class with the highest energy is what we choose as prediction\n",
    "        _, predicted = torch.max(outputs.data, 1)\n",
    "        total += labels.size(0)\n",
    "        correct += (predicted == labels).sum().item()\n",
    "        torch.cuda.empty_cache()\n",
    "\n",
    "print(f'Accuracy of the network on the 10000 test images: {100 * correct / total:.4f}%')"
   ]
  },
  {
   "cell_type": "code",
   "execution_count": null,
   "metadata": {},
   "outputs": [],
   "source": []
  }
 ],
 "metadata": {
  "kernelspec": {
   "display_name": "Python 3",
   "language": "python",
   "name": "python3"
  },
  "language_info": {
   "codemirror_mode": {
    "name": "ipython",
    "version": 3
   },
   "file_extension": ".py",
   "mimetype": "text/x-python",
   "name": "python",
   "nbconvert_exporter": "python",
   "pygments_lexer": "ipython3",
   "version": "3.10.0"
  },
  "orig_nbformat": 4
 },
 "nbformat": 4,
 "nbformat_minor": 2
}
