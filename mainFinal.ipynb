{
 "cells": [
  {
   "cell_type": "markdown",
   "metadata": {},
   "source": [
    "# Quaternion convolutional layers reproduction"
   ]
  },
  {
   "attachments": {},
   "cell_type": "markdown",
   "metadata": {},
   "source": [
    "Firstly I want to check if it possible to recreate the paper. This process will consist of the following steps\n",
    "\n",
    "- Dataloader\n",
    "- DataFormatter\n",
    "- QCNN import \n",
    "- QNN import\n",
    "- Recreate archtitecture \n",
    "- Train"
   ]
  },
  {
   "attachments": {},
   "cell_type": "markdown",
   "metadata": {},
   "source": [
    "# Questions for the following session\n",
    "\n",
    "- Where does the conversion to quaternions happen\n",
    "- When we input the output feautures map into the Qlinearlayer we lose all our information right\n",
    "- Why do de images needed te be padded with a extra dimension\n",
    "\n",
    "# To do following session\n",
    "\n",
    "- Train the network"
   ]
  },
  {
   "cell_type": "markdown",
   "metadata": {},
   "source": []
  },
  {
   "cell_type": "markdown",
   "metadata": {},
   "source": []
  },
  {
   "attachments": {},
   "cell_type": "markdown",
   "metadata": {},
   "source": [
    "## Modules\n"
   ]
  },
  {
   "cell_type": "code",
   "execution_count": 38,
   "metadata": {},
   "outputs": [],
   "source": [
    "import numpy as np\n",
    "import torch as th\n",
    "from torchvision import transforms\n",
    "import torchvision.datasets as datasets\n",
    "import matplotlib.pyplot as plt\n",
    "from PIL import Image\n",
    "from torch.utils.data import DataLoader\n",
    "import core_qnn as qcnn\n",
    "import torch\n",
    "import torch.nn as nn\n",
    "from   torch.nn import Parameter\n",
    "from   torch.nn import functional as F\n",
    "import torch.optim\n",
    "from   torch.autograd import Variable\n",
    "from   torch import autograd\n",
    "import os\n",
    "import pickle\n",
    "import numpy as np\n",
    "# Tranform data to PyTorch tensore\n",
    "from torchvision.utils import make_grid\n",
    "from torchvision.transforms import ToTensor\n",
    "import torchvision"
   ]
  },
  {
   "attachments": {},
   "cell_type": "markdown",
   "metadata": {},
   "source": [
    "## Dataloader"
   ]
  },
  {
   "cell_type": "code",
   "execution_count": 39,
   "metadata": {},
   "outputs": [
    {
     "name": "stdout",
     "output_type": "stream",
     "text": [
      "Files already downloaded and verified\n"
     ]
    }
   ],
   "source": [
    "grayscale = torchvision.transforms.Grayscale(num_output_channels=1)\n",
    "\n",
    "def convert_data_for_quaternion(batch):\n",
    "    \"\"\"\n",
    "    converts batches of RGB images in 4 channels for QNNs\n",
    "    \"\"\"\n",
    "    assert all(batch[i][0].size(0) == 3 for i in range(len(batch)))\n",
    "    inputs, labels = [], []\n",
    "    for i in range(len(batch)):\n",
    "        inputs.append(torch.cat([batch[i][0], torch.zeros(grayscale(batch[i][0]).size())], 0))\n",
    "        labels.append(batch[i][1])\n",
    "    \n",
    "    return torch.stack(inputs), torch.LongTensor(labels)\n",
    "\n",
    "transform_train = transforms.Compose(\n",
    "    [\n",
    "    transforms.RandomAffine(degrees=0, translate=(0.1, 0.1)),\n",
    "     transforms.RandomHorizontalFlip(),\n",
    "     transforms.ToTensor(),\n",
    "    #  transforms.Normalize((.5, .5, .5), (.5, .5, .5))\n",
    "     ])\n",
    "\n",
    "transform_test = transforms.Compose(\n",
    "    [transforms.ToTensor(),\n",
    "    #  transforms.Normalize((.5, .5, .5), (.5, .5, .5))\n",
    "    ]\n",
    "     )\n",
    "\n",
    "data = datasets.CIFAR10(root='data', train=True, download=True, transform=transform_train)"
   ]
  },
  {
   "cell_type": "code",
   "execution_count": 40,
   "metadata": {},
   "outputs": [],
   "source": [
    "loader = torch.utils.data.DataLoader(data, batch_size=32, shuffle=True,collate_fn=convert_data_for_quaternion)"
   ]
  },
  {
   "cell_type": "code",
   "execution_count": 41,
   "metadata": {},
   "outputs": [
    {
     "name": "stdout",
     "output_type": "stream",
     "text": [
      "This is the size of image data torch.Size([4, 32, 32])\n",
      "This is the size of labels data torch.Size([32])\n"
     ]
    },
    {
     "data": {
      "text/plain": [
       "<matplotlib.image.AxesImage at 0x24a8ae294e0>"
      ]
     },
     "execution_count": 41,
     "metadata": {},
     "output_type": "execute_result"
    },
    {
     "data": {
      "image/png": "[encoded data removed]",
      "text/plain": [
       "<Figure size 640x480 with 1 Axes>"
      ]
     },
     "metadata": {},
     "output_type": "display_data"
    }
   ],
   "source": [
    "iter_func = iter(loader)\n",
    "\n",
    "image_data, label_data = next(iter_func)\n",
    "\n",
    "print(\"This is the size of image data\",image_data[0].shape)\n",
    "\n",
    "print(\"This is the size of labels data\",label_data.shape)\n",
    "\n",
    "plt.imshow(image_data[0][:3,:,:].permute((2,1,0)), cmap='Greys_r')"
   ]
  },
  {
   "attachments": {},
   "cell_type": "markdown",
   "metadata": {},
   "source": [
    "## Creating the model"
   ]
  },
  {
   "cell_type": "code",
   "execution_count": 42,
   "metadata": {},
   "outputs": [
    {
     "name": "stdout",
     "output_type": "stream",
     "text": [
      "tensor([[0.0000, 0.0000, 1.0000,  ..., 1.0000, 1.0000, 1.0000],\n",
      "        [0.0000, 0.0000, 1.0000,  ..., 1.0000, 1.0000, 1.0000],\n",
      "        [0.0000, 0.0000, 1.0000,  ..., 1.0000, 1.0000, 1.0000],\n",
      "        ...,\n",
      "        [0.0000, 0.0000, 0.5373,  ..., 0.5451, 0.5451, 0.5490],\n",
      "        [0.0000, 0.0000, 0.5255,  ..., 0.4941, 0.4941, 0.5020],\n",
      "        [0.0000, 0.0000, 0.4784,  ..., 0.4510, 0.4471, 0.4510]])\n"
     ]
    }
   ],
   "source": [
    "print(image_data[31][2,:,:])"
   ]
  },
  {
   "cell_type": "code",
   "execution_count": 43,
   "metadata": {},
   "outputs": [],
   "source": [
    "from   core_qnn.quaternion_layers import QuaternionLinear, QuaternionTransposeConv, QuaternionConv\n",
    "\n",
    "class NormalModule(nn.Module):\n",
    "    \n",
    "    def __init__(self):\n",
    "        super(NormalModule, self).__init__()\n",
    "        \n",
    "        self.layer1 = nn.Linear(3072, 2048)\n",
    "        self.layer2 = nn.Linear(2048, 516)\n",
    "        self.layer3 = nn.Linear(516, 10)\n",
    "\n",
    "    def forward(self, x):\n",
    "        x = th.flatten(x)\n",
    "        x = self.layer1.forward(x)\n",
    "        x = F.relu(x)\n",
    "        x = self.layer2.forward(x)\n",
    "        x = F.relu(x)\n",
    "        x = self.layer3.forward(x)\n",
    "        x = F.softmax(x)\n",
    "\n",
    "        return x\n",
    "    \n",
    "    def name(self):\n",
    "        return \"SimpleModule\"\n",
    "    \n",
    "\n",
    "\n",
    "\n",
    "class SimpleModule(nn.Module):\n",
    "    \n",
    "    def __init__(self):\n",
    "        super(SimpleModule, self).__init__()\n",
    "        \n",
    "        self.layer1 = QuaternionConv(in_channels=4, out_channels=4, kernel_size = 3, stride = 1, padding = 1)\n",
    "        self.layer2 = nn.Linear(4096, 516)\n",
    "        self.layer3 = nn.Linear(516, 10)\n",
    "\n",
    "    def forward(self, x):\n",
    "        x = self.layer1.forward(x)\n",
    "        x = F.relu(x)\n",
    "        x = th.flatten(x)\n",
    "        x = self.layer2.forward(x)\n",
    "        x = F.relu(x)\n",
    "        x = self.layer3.forward(x)\n",
    "        x = F.softmax(x)\n",
    "\n",
    "        return x\n",
    "    \n",
    "    def name(self):\n",
    "        return \"SimpleModule\"\n",
    "    \n",
    "class TheModule(nn.Module):\n",
    "    \n",
    "    def __init__(self):\n",
    "        super(TheModule, self).__init__()\n",
    "        \n",
    "        self.layer1 = QuaternionConv(in_channels=4, out_channels=32, kernel_size = 3, stride = 1, padding = 1)\n",
    "        self.layer2 = QuaternionConv(in_channels=32, out_channels=32, kernel_size = 3, stride = 1, padding = 1)\n",
    "        self.layer3 = nn.MaxPool2d(kernel_size=2, stride = 2)\n",
    "        self.layer4 = nn.Dropout(0.25)\n",
    "\n",
    "        self.layer5 = QuaternionConv(in_channels=32, out_channels=64, kernel_size = 3, stride = 1, padding = 1)\n",
    "        self.layer6 = QuaternionConv(in_channels=64, out_channels=64, kernel_size = 3, stride = 1, padding = 1)\n",
    "\n",
    "        # self.layer7 = QuaternionLinear(4096, 512)\n",
    "        self.layer7 = nn.Linear(4096, 512)\n",
    "        \n",
    "        # self.layer8 = QuaternionLinear(512, 10)\n",
    "        self.layer8 = nn.Linear(512, 10)\n",
    "\n",
    "\n",
    "        self.layer9 = nn.Dropout(0.5)\n",
    "\n",
    "    def forward(self, x):\n",
    "        x = self.layer1.forward(x)\n",
    "        x = F.relu(x)\n",
    "        x = self.layer2.forward(x)\n",
    "        x = F.relu(x)\n",
    "        x = self.layer3(x)\n",
    "        # x = self.layer4(x)\n",
    "        \n",
    "        x = self.layer5.forward(x)\n",
    "        x = F.relu(x)\n",
    "        x = self.layer6.forward(x)\n",
    "        x = F.relu(x)\n",
    "        x = self.layer3(x)\n",
    "        # x = self.layer4(x) \n",
    "        \n",
    "        flat = nn.Flatten()\n",
    "        x = flat(x)\n",
    "        \n",
    "        x = self.layer7.forward(x)\n",
    "        x = F.relu(x)\n",
    "        x = self.layer8.forward(x)\n",
    "        # x = self.layer9(x)\n",
    "        x = th.sigmoid(x)\n",
    "\n",
    "        return x\n",
    "    \n",
    "    def name(self):\n",
    "        return \"SimpleModule\"\n",
    "    \n",
    "\n",
    "\n"
   ]
  },
  {
   "attachments": {},
   "cell_type": "markdown",
   "metadata": {},
   "source": [
    "## Choose your network"
   ]
  },
  {
   "cell_type": "code",
   "execution_count": 44,
   "metadata": {},
   "outputs": [],
   "source": [
    "# Choose your model\n",
    "if False: model = SimpleModule().cuda(); BATCH_SIZE = 1\n",
    "if True: model = TheModule().cuda(); BATCH_SIZE = 1\n",
    "if False: model = NormalModule().cuda(); BATCH_SIZE = 1\n",
    "\n",
    "criterion = nn.CrossEntropyLoss()\n",
    "opt = torch.optim.RMSprop(model.parameters(), lr = 0.0001,weight_decay=1e-6)"
   ]
  },
  {
   "attachments": {},
   "cell_type": "markdown",
   "metadata": {},
   "source": [
    "## Training the network \n"
   ]
  },
  {
   "cell_type": "code",
   "execution_count": 45,
   "metadata": {},
   "outputs": [
    {
     "name": "stdout",
     "output_type": "stream",
     "text": [
      "Epoch [1/80], Loss: 2.0842\n"
     ]
    },
    {
     "ename": "KeyboardInterrupt",
     "evalue": "",
     "output_type": "error",
     "traceback": [
      "\u001b[1;31m---------------------------------------------------------------------------\u001b[0m",
      "\u001b[1;31mKeyboardInterrupt\u001b[0m                         Traceback (most recent call last)",
      "Cell \u001b[1;32mIn[45], line 16\u001b[0m\n\u001b[0;32m     14\u001b[0m outputs \u001b[39m=\u001b[39m model(inputs)\n\u001b[0;32m     15\u001b[0m loss \u001b[39m=\u001b[39m criterion(outputs, labels)\n\u001b[1;32m---> 16\u001b[0m loss\u001b[39m.\u001b[39;49mbackward()\n\u001b[0;32m     17\u001b[0m opt\u001b[39m.\u001b[39mstep()\n\u001b[0;32m     19\u001b[0m \u001b[39m# print statistics\u001b[39;00m\n\u001b[0;32m     20\u001b[0m     \u001b[39m# Print progress\u001b[39;00m\n",
      "File \u001b[1;32mc:\\Python310\\lib\\site-packages\\torch\\_tensor.py:487\u001b[0m, in \u001b[0;36mTensor.backward\u001b[1;34m(self, gradient, retain_graph, create_graph, inputs)\u001b[0m\n\u001b[0;32m    477\u001b[0m \u001b[39mif\u001b[39;00m has_torch_function_unary(\u001b[39mself\u001b[39m):\n\u001b[0;32m    478\u001b[0m     \u001b[39mreturn\u001b[39;00m handle_torch_function(\n\u001b[0;32m    479\u001b[0m         Tensor\u001b[39m.\u001b[39mbackward,\n\u001b[0;32m    480\u001b[0m         (\u001b[39mself\u001b[39m,),\n\u001b[1;32m   (...)\u001b[0m\n\u001b[0;32m    485\u001b[0m         inputs\u001b[39m=\u001b[39minputs,\n\u001b[0;32m    486\u001b[0m     )\n\u001b[1;32m--> 487\u001b[0m torch\u001b[39m.\u001b[39;49mautograd\u001b[39m.\u001b[39;49mbackward(\n\u001b[0;32m    488\u001b[0m     \u001b[39mself\u001b[39;49m, gradient, retain_graph, create_graph, inputs\u001b[39m=\u001b[39;49minputs\n\u001b[0;32m    489\u001b[0m )\n",
      "File \u001b[1;32mc:\\Python310\\lib\\site-packages\\torch\\autograd\\__init__.py:200\u001b[0m, in \u001b[0;36mbackward\u001b[1;34m(tensors, grad_tensors, retain_graph, create_graph, grad_variables, inputs)\u001b[0m\n\u001b[0;32m    195\u001b[0m     retain_graph \u001b[39m=\u001b[39m create_graph\n\u001b[0;32m    197\u001b[0m \u001b[39m# The reason we repeat same the comment below is that\u001b[39;00m\n\u001b[0;32m    198\u001b[0m \u001b[39m# some Python versions print out the first line of a multi-line function\u001b[39;00m\n\u001b[0;32m    199\u001b[0m \u001b[39m# calls in the traceback and some print out the last line\u001b[39;00m\n\u001b[1;32m--> 200\u001b[0m Variable\u001b[39m.\u001b[39;49m_execution_engine\u001b[39m.\u001b[39;49mrun_backward(  \u001b[39m# Calls into the C++ engine to run the backward pass\u001b[39;49;00m\n\u001b[0;32m    201\u001b[0m     tensors, grad_tensors_, retain_graph, create_graph, inputs,\n\u001b[0;32m    202\u001b[0m     allow_unreachable\u001b[39m=\u001b[39;49m\u001b[39mTrue\u001b[39;49;00m, accumulate_grad\u001b[39m=\u001b[39;49m\u001b[39mTrue\u001b[39;49;00m)\n",
      "\u001b[1;31mKeyboardInterrupt\u001b[0m: "
     ]
    }
   ],
   "source": [
    "num_epochs = 80\n",
    "losses = []\n",
    "for epoch in range(num_epochs):\n",
    "\n",
    "    running_loss = 0.0\n",
    "    for inputs, labels in loader:\n",
    "        # get the inputs; data is a list of [inputs, labels]\n",
    "        inputs, labels = inputs.to('cuda'), labels.to('cuda')\n",
    "\n",
    "        # zero the parameter gradients\n",
    "        opt.zero_grad()\n",
    "\n",
    "        # forward + backward + optimize\n",
    "        outputs = model(inputs)\n",
    "        loss = criterion(outputs, labels)\n",
    "        loss.backward()\n",
    "        opt.step()\n",
    "\n",
    "        # print statistics\n",
    "            # Print progress\n",
    "    if (epoch+1) % 1 == 0:\n",
    "        losses.append(loss.cpu().item())\n",
    "        print ('Epoch [{}/{}], Loss: {:.4f}'\n",
    "            .format(epoch+1, num_epochs, loss.cpu().item()))\n",
    "\n",
    "print('Finished Training')"
   ]
  },
  {
   "attachments": {},
   "cell_type": "markdown",
   "metadata": {},
   "source": [
    "## Plotting the data\n",
    "\n",
    "plt.plot(range(len(losses)), losses)\n",
    "plt.show()"
   ]
  },
  {
   "cell_type": "code",
   "execution_count": null,
   "metadata": {},
   "outputs": [],
   "source": []
  },
  {
   "cell_type": "code",
   "execution_count": 33,
   "metadata": {},
   "outputs": [
    {
     "name": "stdout",
     "output_type": "stream",
     "text": [
      "Files already downloaded and verified\n"
     ]
    }
   ],
   "source": [
    "data_test = datasets.CIFAR10(root='data', train=False, download=True, transform=transform_test)\n",
    "testloader = torch.utils.data.DataLoader(data_test, batch_size=10000, shuffle=False, \\\n",
    "    collate_fn=convert_data_for_quaternion)"
   ]
  },
  {
   "attachments": {},
   "cell_type": "markdown",
   "metadata": {},
   "source": [
    "## Store"
   ]
  },
  {
   "cell_type": "code",
   "execution_count": 34,
   "metadata": {},
   "outputs": [],
   "source": [
    "import datetime\n",
    "x = datetime.datetime.now()\n",
    "string = str(x.day) + \"_\" + str(x.hour) + \"_\" + str(x.minute) + \"_\" + str(x.second) \n",
    "torch.save(model.state_dict(), f\"./modelsParameters/{string}\")"
   ]
  },
  {
   "attachments": {},
   "cell_type": "markdown",
   "metadata": {},
   "source": [
    "## Retrieve"
   ]
  },
  {
   "cell_type": "code",
   "execution_count": 35,
   "metadata": {},
   "outputs": [
    {
     "data": {
      "text/plain": [
       "TheModule(\n",
       "  (layer1): QuaternionConv(in_channels=1, out_channels=8, bias=True, kernel_size=(3, 3), stride=1, padding=1, init_criterion=glorot, weight_init=quaternion, seed=636, rotation=False, q_format=True, operation=convolution2d)\n",
       "  (layer2): QuaternionConv(in_channels=8, out_channels=8, bias=True, kernel_size=(3, 3), stride=1, padding=1, init_criterion=glorot, weight_init=quaternion, seed=282, rotation=False, q_format=True, operation=convolution2d)\n",
       "  (layer3): MaxPool2d(kernel_size=2, stride=2, padding=0, dilation=1, ceil_mode=False)\n",
       "  (layer4): Dropout(p=0.25, inplace=False)\n",
       "  (layer5): QuaternionConv(in_channels=8, out_channels=16, bias=True, kernel_size=(3, 3), stride=1, padding=1, init_criterion=glorot, weight_init=quaternion, seed=1001, rotation=False, q_format=True, operation=convolution2d)\n",
       "  (layer6): QuaternionConv(in_channels=16, out_channels=16, bias=True, kernel_size=(3, 3), stride=1, padding=1, init_criterion=glorot, weight_init=quaternion, seed=802, rotation=False, q_format=True, operation=convolution2d)\n",
       "  (layer7): QuaternionLinear(in_features=1024, out_features=128, bias=True, init_criterion=he, weight_init=quaternion, seed=841)\n",
       "  (layer8): Linear(in_features=512, out_features=10, bias=True)\n",
       "  (layer9): Dropout(p=0.5, inplace=False)\n",
       ")"
      ]
     },
     "execution_count": 35,
     "metadata": {},
     "output_type": "execute_result"
    }
   ],
   "source": [
    "model = TheModule().cuda()\n",
    "model.load_state_dict(torch.load(\"./hoi\"))\n",
    "model.eval()"
   ]
  },
  {
   "cell_type": "code",
   "execution_count": 36,
   "metadata": {},
   "outputs": [],
   "source": [
    "torch.cuda.empty_cache()"
   ]
  },
  {
   "cell_type": "code",
   "execution_count": 37,
   "metadata": {},
   "outputs": [
    {
     "name": "stdout",
     "output_type": "stream",
     "text": [
      "Accuracy of the network on the 10000 test images: 9.6100%\n"
     ]
    }
   ],
   "source": [
    "correct = 0\n",
    "total = 0\n",
    "# since we're not training, we don't need to calculate the gradients for our outputs\n",
    "with torch.no_grad():\n",
    "    for inputs, labels in testloader:\n",
    "        images, labels = inputs.to('cuda'), labels.to('cuda')\n",
    "        # calculate outputs by running images through the network\n",
    "        outputs = model(images)\n",
    "        # the class with the highest energy is what we choose as prediction\n",
    "        _, predicted = torch.max(outputs.data, 1)\n",
    "        total += labels.size(0)\n",
    "        correct += (predicted == labels).sum().item()\n",
    "        torch.cuda.empty_cache()\n",
    "\n",
    "print(f'Accuracy of the network on the 10000 test images: {100 * correct / total:.4f}%')"
   ]
  },
  {
   "cell_type": "code",
   "execution_count": null,
   "metadata": {},
   "outputs": [],
   "source": []
  }
 ],
 "metadata": {
  "kernelspec": {
   "display_name": "Python 3",
   "language": "python",
   "name": "python3"
  },
  "language_info": {
   "codemirror_mode": {
    "name": "ipython",
    "version": 3
   },
   "file_extension": ".py",
   "mimetype": "text/x-python",
   "name": "python",
   "nbconvert_exporter": "python",
   "pygments_lexer": "ipython3",
   "version": "3.10.0"
  },
  "orig_nbformat": 4
 },
 "nbformat": 4,
 "nbformat_minor": 2
}
