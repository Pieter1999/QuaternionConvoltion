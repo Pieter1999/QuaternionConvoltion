{
 "cells": [
  {
   "cell_type": "markdown",
   "metadata": {},
   "source": [
    "# Quaternion convolutional layers reproduction"
   ]
  },
  {
   "attachments": {},
   "cell_type": "markdown",
   "metadata": {},
   "source": [
    "Firstly I want to check if it possible to recreate the paper. This process will consist of the following steps\n",
    "\n",
    "- Dataloader\n",
    "- DataFormatter\n",
    "- QCNN import \n",
    "- QNN import\n",
    "- Recreate archtitecture \n",
    "- Train"
   ]
  },
  {
   "attachments": {},
   "cell_type": "markdown",
   "metadata": {},
   "source": [
    "# Questions for the following session\n",
    "\n",
    "- Where does the conversion to quaternions happen\n",
    "- When we input the output feautures map into the Qlinearlayer we lose all our information right\n",
    "- Why do de images needed te be padded with a extra dimension\n",
    "\n",
    "# To do following session\n",
    "\n",
    "- Train the network"
   ]
  },
  {
   "cell_type": "markdown",
   "metadata": {},
   "source": []
  },
  {
   "cell_type": "markdown",
   "metadata": {},
   "source": []
  },
  {
   "attachments": {},
   "cell_type": "markdown",
   "metadata": {},
   "source": [
    "## Modules\n"
   ]
  },
  {
   "cell_type": "code",
   "execution_count": 131,
   "metadata": {},
   "outputs": [],
   "source": [
    "import numpy as np\n",
    "import torch as th\n",
    "from torchvision import transforms\n",
    "import torchvision.datasets as datasets\n",
    "import matplotlib.pyplot as plt\n",
    "from PIL import Image\n",
    "from torch.utils.data import DataLoader\n",
    "import core_qnn as qcnn\n",
    "import torch\n",
    "import torch.nn as nn\n",
    "from   torch.nn import Parameter\n",
    "from   torch.nn import functional as F\n",
    "import torch.optim\n",
    "from   torch.autograd import Variable\n",
    "from   torch import autograd\n",
    "import os\n",
    "import pickle\n",
    "import numpy as np\n",
    "# Tranform data to PyTorch tensore\n",
    "from torchvision.utils import make_grid\n",
    "from torchvision.transforms import ToTensor\n",
    "import torchvision"
   ]
  },
  {
   "attachments": {},
   "cell_type": "markdown",
   "metadata": {},
   "source": [
    "## Dataloader"
   ]
  },
  {
   "cell_type": "code",
   "execution_count": 132,
   "metadata": {},
   "outputs": [
    {
     "name": "stdout",
     "output_type": "stream",
     "text": [
      "Files already downloaded and verified\n"
     ]
    }
   ],
   "source": [
    "grayscale = torchvision.transforms.Grayscale(num_output_channels=1)\n",
    "\n",
    "def convert_data_for_quaternion(batch):\n",
    "    \"\"\"\n",
    "    converts batches of RGB images in 4 channels for QNNs\n",
    "    \"\"\"\n",
    "    assert all(batch[i][0].size(0) == 3 for i in range(len(batch)))\n",
    "    inputs, labels = [], []\n",
    "    for i in range(len(batch)):\n",
    "        inputs.append(torch.cat([batch[i][0], torch.zeros(grayscale(batch[i][0]).size())], 0))\n",
    "        labels.append(batch[i][1])\n",
    "    \n",
    "    return torch.stack(inputs), torch.LongTensor(labels)\n",
    "\n",
    "transform_train = transforms.Compose(\n",
    "    [\n",
    "    transforms.RandomAffine(degrees=0, translate=(0.1, 0.1)),\n",
    "     transforms.RandomHorizontalFlip(),\n",
    "     transforms.ToTensor(),\n",
    "    #  transforms.Normalize((.5, .5, .5), (.5, .5, .5))\n",
    "     ])\n",
    "\n",
    "transform_test = transforms.Compose(\n",
    "    [transforms.ToTensor(),\n",
    "    #  transforms.Normalize((.5, .5, .5), (.5, .5, .5))\n",
    "    ]\n",
    "     )\n",
    "\n",
    "data = datasets.CIFAR10(root='data', train=True, download=True, transform=transform_train)"
   ]
  },
  {
   "cell_type": "code",
   "execution_count": 133,
   "metadata": {},
   "outputs": [],
   "source": [
    "loader = torch.utils.data.DataLoader(data, batch_size=32, shuffle=True,collate_fn=convert_data_for_quaternion)"
   ]
  },
  {
   "cell_type": "code",
   "execution_count": 134,
   "metadata": {},
   "outputs": [
    {
     "name": "stdout",
     "output_type": "stream",
     "text": [
      "This is the size of image data torch.Size([4, 32, 32])\n",
      "This is the size of labels data torch.Size([32])\n"
     ]
    },
    {
     "data": {
      "text/plain": [
       "<matplotlib.image.AxesImage at 0x24afa382aa0>"
      ]
     },
     "execution_count": 134,
     "metadata": {},
     "output_type": "execute_result"
    },
    {
     "data": {
      "image/png": "[encoded data removed]",
      "text/plain": [
       "<Figure size 640x480 with 1 Axes>"
      ]
     },
     "metadata": {},
     "output_type": "display_data"
    }
   ],
   "source": [
    "iter_func = iter(loader)\n",
    "\n",
    "image_data, label_data = next(iter_func)\n",
    "\n",
    "print(\"This is the size of image data\",image_data[0].shape)\n",
    "\n",
    "print(\"This is the size of labels data\",label_data.shape)\n",
    "\n",
    "plt.imshow(image_data[0][:3,:,:].permute((2,1,0)), cmap='Greys_r')"
   ]
  },
  {
   "attachments": {},
   "cell_type": "markdown",
   "metadata": {},
   "source": [
    "## Creating the model"
   ]
  },
  {
   "cell_type": "code",
   "execution_count": 135,
   "metadata": {},
   "outputs": [
    {
     "data": {
      "text/plain": [
       "1563"
      ]
     },
     "execution_count": 135,
     "metadata": {},
     "output_type": "execute_result"
    }
   ],
   "source": [
    "len(loader)"
   ]
  },
  {
   "cell_type": "code",
   "execution_count": 136,
   "metadata": {},
   "outputs": [],
   "source": [
    "from   core_qnn.quaternion_layers import QuaternionLinear, QuaternionTransposeConv, QuaternionConv\n",
    "\n",
    "class NormalModule(nn.Module):\n",
    "    \n",
    "    def __init__(self):\n",
    "        super(NormalModule, self).__init__()\n",
    "        \n",
    "        self.layer1 = nn.Linear(3072, 2048)\n",
    "        self.layer2 = nn.Linear(2048, 516)\n",
    "        self.layer3 = nn.Linear(516, 10)\n",
    "\n",
    "    def forward(self, x):\n",
    "        x = th.flatten(x)\n",
    "        x = self.layer1.forward(x)\n",
    "        x = F.relu(x)\n",
    "        x = self.layer2.forward(x)\n",
    "        x = F.relu(x)\n",
    "        x = self.layer3.forward(x)\n",
    "        x = F.softmax(x)\n",
    "\n",
    "        return x\n",
    "    \n",
    "    def name(self):\n",
    "        return \"SimpleModule\"\n",
    "    \n",
    "\n",
    "\n",
    "\n",
    "class SimpleModule(nn.Module):\n",
    "    \n",
    "    def __init__(self):\n",
    "        super(SimpleModule, self).__init__()\n",
    "        \n",
    "        self.layer1 = QuaternionConv(in_channels=4, out_channels=4, kernel_size = 3, stride = 1, padding = 1)\n",
    "        self.layer2 = nn.Linear(4096, 516)\n",
    "        self.layer3 = nn.Linear(516, 10)\n",
    "\n",
    "    def forward(self, x):\n",
    "        x = self.layer1.forward(x)\n",
    "        x = F.relu(x)\n",
    "        x = th.flatten(x)\n",
    "        x = self.layer2.forward(x)\n",
    "        x = F.relu(x)\n",
    "        x = self.layer3.forward(x)\n",
    "        x = F.softmax(x)\n",
    "\n",
    "        return x\n",
    "    \n",
    "    def name(self):\n",
    "        return \"SimpleModule\"\n",
    "    \n",
    "class TheModule(nn.Module):\n",
    "    \n",
    "    def __init__(self):\n",
    "        super(TheModule, self).__init__()\n",
    "        \n",
    "        self.layer1 = QuaternionConv(in_channels=4, out_channels=32, kernel_size = 3, stride = 1, padding = 1)\n",
    "        self.layer2 = QuaternionConv(in_channels=32, out_channels=32, kernel_size = 3, stride = 1, padding = 1)\n",
    "        self.layer3 = nn.MaxPool2d(kernel_size=2, stride = 2)\n",
    "        self.layer4 = nn.Dropout(0.25)\n",
    "\n",
    "        self.layer5 = QuaternionConv(in_channels=32, out_channels=64, kernel_size = 3, stride = 1, padding = 1)\n",
    "        self.layer6 = QuaternionConv(in_channels=64, out_channels=64, kernel_size = 3, stride = 1, padding = 1)\n",
    "\n",
    "        # self.layer7 = QuaternionLinear(4096, 512)\n",
    "        self.layer7 = nn.Linear(4096, 512)\n",
    "        \n",
    "        # self.layer8 = QuaternionLinear(512, 10)\n",
    "        self.layer8 = nn.Linear(512, 10)\n",
    "\n",
    "        self.layer9 = nn.Dropout(0.5)\n",
    "\n",
    "    def forward(self, x):\n",
    "        x = self.layer1.forward(x)\n",
    "        x = F.relu(x)\n",
    "        x = self.layer2.forward(x)\n",
    "        x = F.relu(x)\n",
    "        x = self.layer3(x)\n",
    "        # x = self.layer4(x)\n",
    "        \n",
    "        x = self.layer5.forward(x)\n",
    "        x = F.relu(x)\n",
    "        x = self.layer6.forward(x)\n",
    "        x = F.relu(x)\n",
    "        x = self.layer3(x)\n",
    "        # x = self.layer4(x) \n",
    "        \n",
    "        flat = nn.Flatten()\n",
    "        x = flat(x)\n",
    "        \n",
    "        x = self.layer7.forward(x)\n",
    "        x = F.relu(x)\n",
    "        x = self.layer8.forward(x)\n",
    "        # x = self.layer9(x)\n",
    "        x = th.sigmoid(x)\n",
    "\n",
    "        return x\n",
    "    \n",
    "    def name(self):\n",
    "        return \"SimpleModule\"\n",
    "    \n",
    "class CNNModule(nn.Module):\n",
    "    \n",
    "    def __init__(self):\n",
    "        super(CNNModule, self).__init__()\n",
    "        \n",
    "        self.layer1 = nn.Conv2d(in_channels=3, out_channels=8, kernel_size = 3, stride = 1, padding = 1)\n",
    "        self.layer2 = nn.Conv2d(in_channels=8, out_channels=8, kernel_size = 3, stride = 1, padding = 1)\n",
    "        self.layer3 = nn.MaxPool2d(kernel_size=2, stride = 2)\n",
    "        self.layer4 = nn.Dropout(0.25)\n",
    "\n",
    "        self.layer5 = nn.Conv2d(in_channels=8, out_channels=16, kernel_size = 3, stride = 1, padding = 1)\n",
    "        self.layer6 = nn.Conv2d(in_channels=16, out_channels=16, kernel_size = 3, stride = 1, padding = 1)\n",
    "\n",
    "        # self.layer7 = QuaternionLinear(4096, 512)\n",
    "        self.layer7 = nn.Linear(1024, 512)\n",
    "        \n",
    "        # self.layer8 = QuaternionLinear(512, 10)\n",
    "        self.layer8 = nn.Linear(512, 10)\n",
    "\n",
    "        self.layer9 = nn.Dropout(0.5)\n",
    "\n",
    "    def forward(self, x):\n",
    "        x = self.layer1.forward(x)\n",
    "        x = F.relu(x)\n",
    "        x = self.layer2.forward(x)\n",
    "        x = F.relu(x)\n",
    "        x = self.layer3(x)\n",
    "        # x = self.layer4(x)\n",
    "        \n",
    "        x = self.layer5.forward(x)\n",
    "        x = F.relu(x)\n",
    "        x = self.layer6.forward(x)\n",
    "        x = F.relu(x)\n",
    "        x = self.layer3(x)\n",
    "        # x = self.layer4(x) \n",
    "        flat = nn.Flatten()\n",
    "        x = flat(x)\n",
    "        \n",
    "        x = self.layer7.forward(x)\n",
    "        x = F.relu(x)\n",
    "        x = self.layer8.forward(x)\n",
    "        # x = self.layer9(x)\n",
    "        x = th.sigmoid(x)\n",
    "\n",
    "        return x\n",
    "    \n",
    "    def name(self):\n",
    "        return \"SimpleModule\"\n",
    "\n"
   ]
  },
  {
   "attachments": {},
   "cell_type": "markdown",
   "metadata": {},
   "source": [
    "## Choose your network"
   ]
  },
  {
   "cell_type": "code",
   "execution_count": 137,
   "metadata": {},
   "outputs": [],
   "source": [
    "# Choose your model\n",
    "if False: \n",
    "    model = SimpleModule().cuda(); \n",
    "    loader = torch.utils.data.DataLoader(data, batch_size=32, shuffle=True,collate_fn=convert_data_for_quaternion)\n",
    "\n",
    "\n",
    "if True: \n",
    "    model = TheModule().cuda(); \n",
    "    loader = torch.utils.data.DataLoader(data, batch_size=32, shuffle=True,collate_fn=convert_data_for_quaternion)\n",
    "\n",
    "if False: \n",
    "    model = CNNModule().cuda(); \n",
    "    loader = torch.utils.data.DataLoader(data, batch_size=32, shuffle=True)\n",
    "\n",
    "if False:\n",
    "    model = NormalModule().cuda(); \n",
    "    loader = torch.utils.data.DataLoader(data, batch_size=32, shuffle=True,collate_fn=convert_data_for_quaternion)\n",
    "\n",
    "\n",
    "criterion = nn.CrossEntropyLoss()\n",
    "opt = torch.optim.RMSprop(model.parameters(), lr = 0.0001,weight_decay=1e-6)"
   ]
  },
  {
   "attachments": {},
   "cell_type": "markdown",
   "metadata": {},
   "source": [
    "## Training the network \n"
   ]
  },
  {
   "cell_type": "code",
   "execution_count": 138,
   "metadata": {},
   "outputs": [
    {
     "name": "stdout",
     "output_type": "stream",
     "text": [
      "Epoch [1/80], Loss: 1.8634\n",
      "Running loss 2.037170012410604\n",
      "Epoch [2/80], Loss: 1.9839\n",
      "Running loss 1.9475071080129114\n",
      "Epoch [3/80], Loss: 1.9165\n",
      "Running loss 1.9214080371539408\n",
      "Epoch [4/80], Loss: 1.8400\n",
      "Running loss 1.9030238359461056\n",
      "Epoch [5/80], Loss: 1.8686\n",
      "Running loss 1.8881490223696045\n",
      "Epoch [6/80], Loss: 1.7845\n",
      "Running loss 1.8748425600701086\n",
      "Epoch [7/80], Loss: 1.8097\n",
      "Running loss 1.8659074842662897\n",
      "Epoch [8/80], Loss: 1.8691\n",
      "Running loss 1.8559445400537014\n",
      "Epoch [9/80], Loss: 1.7303\n",
      "Running loss 1.846504881606221\n",
      "Epoch [10/80], Loss: 1.8879\n",
      "Running loss 1.8382238354808005\n",
      "Epoch [11/80], Loss: 1.7843\n",
      "Running loss 1.8301815731130344\n",
      "Epoch [12/80], Loss: 1.6414\n",
      "Running loss 1.8216081146086476\n",
      "Epoch [13/80], Loss: 1.8469\n",
      "Running loss 1.817256062669931\n",
      "Epoch [14/80], Loss: 1.7841\n",
      "Running loss 1.8105642443960168\n",
      "Epoch [15/80], Loss: 1.7579\n",
      "Running loss 1.803410499353708\n",
      "Epoch [16/80], Loss: 1.7269\n",
      "Running loss 1.7977819618168964\n",
      "Epoch [17/80], Loss: 1.7888\n",
      "Running loss 1.7930832389677784\n",
      "Epoch [18/80], Loss: 1.7259\n",
      "Running loss 1.7876632074019272\n",
      "Epoch [19/80], Loss: 1.7730\n",
      "Running loss 1.7834750578636858\n",
      "Epoch [20/80], Loss: 1.7957\n",
      "Running loss 1.7793697434515048\n",
      "Epoch [21/80], Loss: 1.6933\n",
      "Running loss 1.774161808779052\n",
      "Epoch [22/80], Loss: 1.7645\n",
      "Running loss 1.769954365945671\n",
      "Epoch [23/80], Loss: 1.8596\n",
      "Running loss 1.7655562174602417\n",
      "Epoch [24/80], Loss: 1.8512\n",
      "Running loss 1.7613056920997927\n",
      "Epoch [25/80], Loss: 1.8540\n",
      "Running loss 1.7577493167121825\n",
      "Epoch [26/80], Loss: 1.8011\n",
      "Running loss 1.7541887005093917\n",
      "Epoch [27/80], Loss: 1.7572\n",
      "Running loss 1.7509200914655065\n",
      "Epoch [28/80], Loss: 1.7535\n",
      "Running loss 1.7482936239669664\n",
      "Epoch [29/80], Loss: 1.7750\n",
      "Running loss 1.74494518969811\n",
      "Epoch [30/80], Loss: 1.8609\n",
      "Running loss 1.7406774519043555\n",
      "Epoch [31/80], Loss: 1.8070\n",
      "Running loss 1.7382984748652404\n",
      "Epoch [32/80], Loss: 1.6466\n",
      "Running loss 1.7333433523593007\n",
      "Epoch [33/80], Loss: 1.7211\n",
      "Running loss 1.7310405484545484\n",
      "Epoch [34/80], Loss: 1.7962\n",
      "Running loss 1.7297261017526637\n",
      "Epoch [35/80], Loss: 1.6169\n",
      "Running loss 1.7257921595033436\n",
      "Epoch [36/80], Loss: 1.6412\n",
      "Running loss 1.7225967728016245\n",
      "Epoch [37/80], Loss: 1.9077\n",
      "Running loss 1.721095655030039\n",
      "Epoch [38/80], Loss: 1.6819\n",
      "Running loss 1.7169865125734227\n",
      "Epoch [39/80], Loss: 1.6976\n",
      "Running loss 1.7141789597574137\n",
      "Epoch [40/80], Loss: 1.7281\n",
      "Running loss 1.712123369224851\n",
      "Epoch [41/80], Loss: 1.8504\n",
      "Running loss 1.7104517755337578\n",
      "Epoch [42/80], Loss: 1.6787\n",
      "Running loss 1.7077469179741633\n",
      "Epoch [43/80], Loss: 1.6490\n",
      "Running loss 1.7060901399461108\n",
      "Epoch [44/80], Loss: 1.7086\n",
      "Running loss 1.702561979254163\n",
      "Epoch [45/80], Loss: 1.7225\n",
      "Running loss 1.7013034934960949\n",
      "Epoch [46/80], Loss: 1.7004\n",
      "Running loss 1.6980100486496665\n",
      "Epoch [47/80], Loss: 1.6686\n",
      "Running loss 1.695199987633596\n",
      "Epoch [48/80], Loss: 1.7717\n",
      "Running loss 1.6933299452543107\n",
      "Epoch [49/80], Loss: 1.8293\n",
      "Running loss 1.6914712956374225\n",
      "Epoch [50/80], Loss: 1.6344\n",
      "Running loss 1.6890379545098302\n",
      "Epoch [51/80], Loss: 1.7137\n",
      "Running loss 1.6887526537314943\n",
      "Epoch [52/80], Loss: 1.7843\n",
      "Running loss 1.6858305781603011\n",
      "Epoch [53/80], Loss: 1.7225\n",
      "Running loss 1.6840996019213306\n",
      "Epoch [54/80], Loss: 1.7822\n",
      "Running loss 1.683731871236995\n",
      "Epoch [55/80], Loss: 1.7273\n",
      "Running loss 1.6811171137821346\n",
      "Epoch [56/80], Loss: 1.7640\n",
      "Running loss 1.6797433749117763\n",
      "Epoch [57/80], Loss: 1.6819\n",
      "Running loss 1.6772621302595523\n",
      "Epoch [58/80], Loss: 1.6790\n",
      "Running loss 1.677496339904141\n",
      "Epoch [59/80], Loss: 1.8064\n",
      "Running loss 1.6756808988878686\n",
      "Epoch [60/80], Loss: 1.7075\n",
      "Running loss 1.6744486729609074\n",
      "Epoch [61/80], Loss: 1.6047\n",
      "Running loss 1.6723404177014674\n",
      "Epoch [62/80], Loss: 1.6022\n",
      "Running loss 1.671447328322222\n",
      "Epoch [63/80], Loss: 1.7217\n",
      "Running loss 1.6706601387403444\n",
      "Epoch [64/80], Loss: 1.6963\n",
      "Running loss 1.66913746231577\n",
      "Epoch [65/80], Loss: 1.6985\n",
      "Running loss 1.667815202409765\n",
      "Epoch [66/80], Loss: 1.5731\n",
      "Running loss 1.6666375438296024\n",
      "Epoch [67/80], Loss: 1.5723\n",
      "Running loss 1.6653238752295554\n",
      "Epoch [68/80], Loss: 1.6318\n",
      "Running loss 1.6649556179803224\n",
      "Epoch [69/80], Loss: 1.6808\n",
      "Running loss 1.6637228635817252\n",
      "Epoch [70/80], Loss: 1.5007\n",
      "Running loss 1.662915075961703\n",
      "Epoch [71/80], Loss: 1.6298\n",
      "Running loss 1.6616524698180566\n",
      "Epoch [72/80], Loss: 1.6773\n",
      "Running loss 1.6614674305351438\n",
      "Epoch [73/80], Loss: 1.7150\n",
      "Running loss 1.6598096054025895\n",
      "Epoch [74/80], Loss: 1.6440\n",
      "Running loss 1.6591475185338154\n",
      "Epoch [75/80], Loss: 1.5793\n",
      "Running loss 1.6601694759007684\n",
      "Epoch [76/80], Loss: 1.5987\n",
      "Running loss 1.6571916275427117\n",
      "Epoch [77/80], Loss: 1.6664\n",
      "Running loss 1.6580820126329106\n",
      "Epoch [78/80], Loss: 1.6423\n",
      "Running loss 1.6567356171550007\n",
      "Epoch [79/80], Loss: 1.6777\n",
      "Running loss 1.6570512671845887\n",
      "Epoch [80/80], Loss: 1.7102\n",
      "Running loss 1.6570248219422323\n",
      "Finished Training\n"
     ]
    }
   ],
   "source": [
    "num_epochs = 80\n",
    "losses = []\n",
    "running_loss = 0\n",
    "for epoch in range(num_epochs):\n",
    "\n",
    "    running_loss = 0\n",
    "    for inputs, labels in loader:\n",
    "        # get the inputs; data is a list of [inputs, labels]\n",
    "        inputs, labels = inputs.to('cuda'), labels.to('cuda')\n",
    "\n",
    "        # zero the parameter gradients\n",
    "        opt.zero_grad()\n",
    "\n",
    "        # forward + backward + optimize\n",
    "        outputs = model(inputs)\n",
    "        loss = criterion(outputs, labels)\n",
    "        loss.backward()\n",
    "        opt.step()\n",
    "        running_loss += loss.cpu().item()\n",
    "        # print statistics\n",
    "            # Print progress\n",
    "    if (epoch+1) % 1 == 0:\n",
    "        losses.append(running_loss/1563)\n",
    "        print ('Epoch [{}/{}], Loss: {:.4f}'\n",
    "            .format(epoch+1, num_epochs, loss.cpu().item()))\n",
    "        print(f\"Running loss {running_loss/1563}\")\n",
    "\n",
    "print('Finished Training')"
   ]
  },
  {
   "attachments": {},
   "cell_type": "markdown",
   "metadata": {},
   "source": [
    "## Plotting and saving the data\n",
    "\n"
   ]
  },
  {
   "cell_type": "code",
   "execution_count": 139,
   "metadata": {},
   "outputs": [
    {
     "data": {
      "image/png": "[encoded data removed]",
      "text/plain": [
       "<Figure size 640x480 with 1 Axes>"
      ]
     },
     "metadata": {},
     "output_type": "display_data"
    }
   ],
   "source": [
    "import datetime\n",
    "import pandas as pd\n",
    "x = datetime.datetime.now()\n",
    "\n",
    "appendix = \"QCNN\"\n",
    "string = str(x.day) + \"_\" + str(x.hour) + \"_\" + str(x.minute) + \"_\" + str(x.second) + \"_\" + str(appendix)\n",
    "\n",
    "# Plotter\n",
    "plt.plot(range(len(losses)), losses)\n",
    "plt.savefig( f\"./modelsParameters/{string}.png\")\n",
    "plt.show()\n",
    "\n",
    "# Torch\n",
    "torch.save(model.state_dict(), f\"./modelsParameters/{string}\")\n",
    "\n",
    "# Pandas\n",
    "df = pd.DataFrame(losses, columns=[\"Losses\"])\n",
    "df.to_csv( f\"./modelsParameters/{string}.csv\", index=False)"
   ]
  },
  {
   "cell_type": "code",
   "execution_count": 125,
   "metadata": {},
   "outputs": [
    {
     "name": "stdout",
     "output_type": "stream",
     "text": [
      "Files already downloaded and verified\n"
     ]
    }
   ],
   "source": [
    "data_test = datasets.CIFAR10(root='data', train=False, download=True, transform=transform_test)\n",
    "testloader = torch.utils.data.DataLoader(data_test, batch_size=10000, shuffle=False, \\\n",
    "    collate_fn=convert_data_for_quaternion)\n",
    "\n",
    "# Model is normal cnn\n",
    "# data_test = datasets.CIFAR10(root='data', train=False, download=True, transform=transform_test)\n",
    "# testloader = torch.utils.data.DataLoader(data_test, batch_size=10000, shuffle=False)"
   ]
  },
  {
   "attachments": {},
   "cell_type": "markdown",
   "metadata": {},
   "source": [
    "## Store"
   ]
  },
  {
   "cell_type": "code",
   "execution_count": 130,
   "metadata": {},
   "outputs": [],
   "source": [
    "\n"
   ]
  },
  {
   "attachments": {},
   "cell_type": "markdown",
   "metadata": {},
   "source": [
    "## Retrieve"
   ]
  },
  {
   "cell_type": "code",
   "execution_count": 35,
   "metadata": {},
   "outputs": [
    {
     "data": {
      "text/plain": [
       "TheModule(\n",
       "  (layer1): QuaternionConv(in_channels=1, out_channels=8, bias=True, kernel_size=(3, 3), stride=1, padding=1, init_criterion=glorot, weight_init=quaternion, seed=636, rotation=False, q_format=True, operation=convolution2d)\n",
       "  (layer2): QuaternionConv(in_channels=8, out_channels=8, bias=True, kernel_size=(3, 3), stride=1, padding=1, init_criterion=glorot, weight_init=quaternion, seed=282, rotation=False, q_format=True, operation=convolution2d)\n",
       "  (layer3): MaxPool2d(kernel_size=2, stride=2, padding=0, dilation=1, ceil_mode=False)\n",
       "  (layer4): Dropout(p=0.25, inplace=False)\n",
       "  (layer5): QuaternionConv(in_channels=8, out_channels=16, bias=True, kernel_size=(3, 3), stride=1, padding=1, init_criterion=glorot, weight_init=quaternion, seed=1001, rotation=False, q_format=True, operation=convolution2d)\n",
       "  (layer6): QuaternionConv(in_channels=16, out_channels=16, bias=True, kernel_size=(3, 3), stride=1, padding=1, init_criterion=glorot, weight_init=quaternion, seed=802, rotation=False, q_format=True, operation=convolution2d)\n",
       "  (layer7): QuaternionLinear(in_features=1024, out_features=128, bias=True, init_criterion=he, weight_init=quaternion, seed=841)\n",
       "  (layer8): Linear(in_features=512, out_features=10, bias=True)\n",
       "  (layer9): Dropout(p=0.5, inplace=False)\n",
       ")"
      ]
     },
     "execution_count": 35,
     "metadata": {},
     "output_type": "execute_result"
    }
   ],
   "source": [
    "model = TheModule().cuda()\n",
    "model.load_state_dict(torch.load(\"./hoi\"))\n",
    "model.eval()"
   ]
  },
  {
   "cell_type": "code",
   "execution_count": 127,
   "metadata": {},
   "outputs": [],
   "source": [
    "torch.cuda.empty_cache()"
   ]
  },
  {
   "cell_type": "code",
   "execution_count": 128,
   "metadata": {},
   "outputs": [
    {
     "name": "stdout",
     "output_type": "stream",
     "text": [
      "Accuracy of the network on the 10000 test images: 60.3100%\n"
     ]
    }
   ],
   "source": [
    "correct = 0\n",
    "total = 0\n",
    "# since we're not training, we don't need to calculate the gradients for our outputs\n",
    "with torch.no_grad():\n",
    "    for inputs, labels in testloader:\n",
    "        images, labels = inputs.to('cuda'), labels.to('cuda')\n",
    "        # calculate outputs by running images through the network\n",
    "        outputs = model(images)\n",
    "        # the class with the highest energy is what we choose as prediction\n",
    "        _, predicted = torch.max(outputs.data, 1)\n",
    "        total += labels.size(0)\n",
    "        correct += (predicted == labels).sum().item()\n",
    "        torch.cuda.empty_cache()\n",
    "\n",
    "print(f'Accuracy of the network on the 10000 test images: {100 * correct / total:.4f}%')"
   ]
  },
  {
   "cell_type": "code",
   "execution_count": null,
   "metadata": {},
   "outputs": [],
   "source": []
  }
 ],
 "metadata": {
  "kernelspec": {
   "display_name": "Python 3",
   "language": "python",
   "name": "python3"
  },
  "language_info": {
   "codemirror_mode": {
    "name": "ipython",
    "version": 3
   },
   "file_extension": ".py",
   "mimetype": "text/x-python",
   "name": "python",
   "nbconvert_exporter": "python",
   "pygments_lexer": "ipython3",
   "version": "3.10.0"
  },
  "orig_nbformat": 4
 },
 "nbformat": 4,
 "nbformat_minor": 2
}
